{
 "cells": [
  {
   "cell_type": "markdown",
   "id": "68f1c35a",
   "metadata": {},
   "source": [
    "# Question 1"
   ]
  },
  {
   "cell_type": "code",
   "execution_count": 19,
   "id": "ecc193a3",
   "metadata": {},
   "outputs": [
    {
     "name": "stdout",
     "output_type": "stream",
     "text": [
      "Dataset shape: (7648, 17)\n",
      "df.head:\n",
      "  0   1   2   3   4   5   6   7   8   9   10  11  12  13  14  15  16\n",
      "0  I   5  12   3   7   2  10   5   5   4  13   3   9   2   8   4  10\n",
      "1  D   4  11   6   8   6  10   6   2   6  10   3   7   3   7   3   9\n",
      "2  G   2   1   3   1   1   8   6   6   6   6   5   9   1   7   5  10\n",
      "3  B   4   2   5   4   4   8   7   6   6   7   6   6   2   8   7  10\n",
      "4  A   1   1   3   2   1   8   2   2   2   8   2   8   1   6   2   7\n"
     ]
    }
   ],
   "source": [
    "import tensorflow as tf\n",
    "import numpy as np\n",
    "import pandas as pd\n",
    "import matplotlib.pyplot as plt\n",
    "from sklearn.model_selection import train_test_split\n",
    "from sklearn.metrics import accuracy_score, f1_score\n",
    "from sklearn.svm import SVC\n",
    "\n",
    "\n",
    "#  indicating to Pandas that the first row should not be taken as the header\n",
    "# Load the dataset\n",
    "df = pd.read_csv(\"../../data/letter_classification.csv\", header=None)\n",
    "print(\"Dataset shape:\", df.shape)\n",
    "print(\"df.head:\")\n",
    "print(df.head())"
   ]
  },
  {
   "cell_type": "code",
   "execution_count": 20,
   "id": "6a4fde96",
   "metadata": {},
   "outputs": [
    {
     "name": "stdout",
     "output_type": "stream",
     "text": [
      "X shape: (7648, 16)\n",
      "y shape: (7648,)\n"
     ]
    }
   ],
   "source": [
    "# Separate features and labels\n",
    "X = df.iloc[:, 1:].to_numpy()\n",
    "y = df.iloc[:, 0].to_numpy()\n",
    "\n",
    "print(f\"X shape: {X.shape}\")\n",
    "print(f\"y shape: {y.shape}\")"
   ]
  },
  {
   "cell_type": "code",
   "execution_count": 21,
   "id": "8a5283e9",
   "metadata": {},
   "outputs": [
    {
     "name": "stdout",
     "output_type": "stream",
     "text": [
      "Training set size: 5353\n",
      "Test set size: 2295\n",
      "Number of class labels: 10\n",
      "Class labels: ['A' 'B' 'C' 'D' 'E' 'F' 'G' 'H' 'I' 'J']\n",
      "\n",
      "Multi-class SVM options:\n",
      "1. One-vs-Rest (OVR): Train one binary classifier per class\n",
      "2. One-vs-One (OVO): Train binary classifier for each pair of classes\n",
      "3. Direct multi-class methods (like Crammer-Singer)\n"
     ]
    }
   ],
   "source": [
    "# a. Set random state and split data\n",
    "randstate = 123\n",
    "X_train, X_test, y_train, y_test = train_test_split(\n",
    "    X, y, test_size=0.3, random_state=randstate\n",
    ")\n",
    "\n",
    "print(f\"Training set size: {X_train.shape[0]}\")\n",
    "print(f\"Test set size: {X_test.shape[0]}\")\n",
    "\n",
    "# Check unique class labels\n",
    "unique_labels = np.unique(y)\n",
    "print(f\"Number of class labels: {len(unique_labels)}\")\n",
    "print(f\"Class labels: {unique_labels}\")\n",
    "\n",
    "print(\"\\nMulti-class SVM options:\")\n",
    "print(\"1. One-vs-Rest (OVR): Train one binary classifier per class\")\n",
    "print(\"2. One-vs-One (OVO): Train binary classifier for each pair of classes\")\n",
    "print(\"3. Direct multi-class methods (like Crammer-Singer)\")"
   ]
  },
  {
   "cell_type": "code",
   "execution_count": null,
   "id": "cadb6d6b",
   "metadata": {},
   "outputs": [
    {
     "name": "stdout",
     "output_type": "stream",
     "text": [
      "\n",
      "SVM Parameters explanation:\n",
      "- C parameter: Controls trade-off between smooth decision boundary and classifying training points correctly\n",
      "- Increasing C: Makes model more complex, tries to classify all training examples correctly (may overfit)\n",
      "- RBF kernel hyperparameter: gamma (γ), controls kernel width/influence of single training example\n"
     ]
    }
   ],
   "source": [
    "# b. Create SVM model with OVR\n",
    "model = SVC(C=1, kernel=\"rbf\", gamma=0.1, decision_function_shape=\"ovr\")\n",
    "\n",
    "print(\"\\nSVM Parameters explanation:\")\n",
    "print(\n",
    "    \"- C parameter: Controls trade-off between smooth decision boundary and classifying training points correctly\"\n",
    ")\n",
    "print(\n",
    "    \"- Increasing C: Makes model more complex, tries to classify all training examples correctly (may overfit)\"\n",
    ")\n",
    "print(\n",
    "    \"- RBF kernel hyperparameter: gamma (γ), controls kernel width/influence of single training example\"\n",
    ")"
   ]
  },
  {
   "cell_type": "code",
   "execution_count": null,
   "id": "bd73981d",
   "metadata": {},
   "outputs": [
    {
     "name": "stdout",
     "output_type": "stream",
     "text": [
      "\n",
      "Test accuracy with gamma=0.1: 0.9817\n"
     ]
    }
   ],
   "source": [
    "# c. Train model and evaluate\n",
    "\n",
    "model.fit(X_train, y_train)\n",
    "y_pred = model.predict(X_test)\n",
    "test_accuracy = accuracy_score(y_test, y_pred)\n",
    "\n",
    "print(f\"\\nTest accuracy with gamma=0.1: {test_accuracy:.4f}\")"
   ]
  },
  {
   "cell_type": "code",
   "execution_count": 26,
   "id": "44a2f0db",
   "metadata": {},
   "outputs": [
    {
     "name": "stdout",
     "output_type": "stream",
     "text": [
      "\n",
      "Gamma and kernel localization:\n",
      "- γ = 1/(2σ²) in sklearn's RBF kernel\n",
      "- For more localized kernel: INCREASE gamma\n",
      "- Higher gamma → smaller σ → kernel drops off more quickly → more localized\n"
     ]
    }
   ],
   "source": [
    "# d. Answer about gamma and localization\n",
    "\n",
    "print(\"\\nGamma and kernel localization:\")\n",
    "print(\"- γ = 1/(2σ²) in sklearn's RBF kernel\")\n",
    "print(\"- For more localized kernel: INCREASE gamma\")\n",
    "print(\"- Higher gamma → smaller σ → kernel drops off more quickly → more localized\")"
   ]
  },
  {
   "cell_type": "code",
   "execution_count": 27,
   "id": "e5a7c79e",
   "metadata": {},
   "outputs": [
    {
     "name": "stdout",
     "output_type": "stream",
     "text": [
      "\n",
      "Testing extreme gamma values:\n",
      "Gamma=0.0001: Test accuracy = 0.7342\n",
      "Gamma=100: Test accuracy = 0.1869\n",
      "\n",
      "Comparison:\n",
      "Gamma=0.1 (baseline): 0.9817\n",
      "Very small gamma (0.0001): Underfitting - kernel too wide, poor decision boundaries\n",
      "Very large gamma (100): Overfitting - kernel too narrow, memorizes training data\n"
     ]
    }
   ],
   "source": [
    "# e. Test extreme gamma values\n",
    "gamma_values = [0.0001, 100]\n",
    "print(f\"\\nTesting extreme gamma values:\")\n",
    "\n",
    "for gamma in gamma_values:\n",
    "    model_extreme = SVC(C=1, kernel=\"rbf\", gamma=gamma, decision_function_shape=\"ovr\")\n",
    "    model_extreme.fit(X_train, y_train)\n",
    "    y_pred_extreme = model_extreme.predict(X_test)\n",
    "    accuracy_extreme = accuracy_score(y_test, y_pred_extreme)\n",
    "    print(f\"Gamma={gamma}: Test accuracy = {accuracy_extreme:.4f}\")\n",
    "\n",
    "print(f\"\\nComparison:\")\n",
    "print(f\"Gamma=0.1 (baseline): {test_accuracy:.4f}\")\n",
    "print(\n",
    "    \"Very small gamma (0.0001): Underfitting - kernel too wide, poor decision boundaries\"\n",
    ")\n",
    "print(\n",
    "    \"Very large gamma (100): Overfitting - kernel too narrow, memorizes training data\"\n",
    ")"
   ]
  },
  {
   "cell_type": "markdown",
   "id": "27f97669",
   "metadata": {},
   "source": [
    "# Question 2"
   ]
  },
  {
   "cell_type": "code",
   "execution_count": null,
   "id": "22fde692",
   "metadata": {},
   "outputs": [
    {
     "name": "stdout",
     "output_type": "stream",
     "text": [
      "Original dataset shape: (7648, 17)\n",
      "Subset (A and B only) shape: (1555, 17)\n",
      "Subset X shape: (1555, 16)\n",
      "Subset y shape: (1555,)\n",
      "Unique labels in subset: ['A' 'B']\n",
      "Training set size: 1088\n",
      "Test set size: 467\n"
     ]
    }
   ],
   "source": [
    "# Filter data to include only labels \"A\" and \"B\"\n",
    "dat_subset = df.iloc[(y == \"A\") | (y == \"B\"), :]\n",
    "print(f\"Original dataset shape: {df.shape}\")\n",
    "print(f\"Subset (A and B only) shape: {dat_subset.shape}\")\n",
    "\n",
    "# Separate features and labels for subset\n",
    "X_subset = dat_subset.iloc[:, 1:].to_numpy()\n",
    "y_subset = dat_subset.iloc[:, 0].to_numpy()\n",
    "\n",
    "print(f\"Subset X shape: {X_subset.shape}\")\n",
    "print(f\"Subset y shape: {y_subset.shape}\")\n",
    "print(f\"Unique labels in subset: {np.unique(y_subset)}\")\n",
    "\n",
    "# Split subset data with same random state\n",
    "X_train, X_test, y_train, y_test = train_test_split(\n",
    "    X_subset, y_subset, test_size=0.3, random_state=randstate\n",
    ")\n",
    "\n",
    "print(f\"Training set size: {X_train.shape[0]}\")\n",
    "print(f\"Test set size: {X_test.shape[0]}\")"
   ]
  },
  {
   "cell_type": "code",
   "execution_count": null,
   "id": "7a8d3816",
   "metadata": {},
   "outputs": [
    {
     "name": "stdout",
     "output_type": "stream",
     "text": [
      "D_train shape before symmetrization: (1088, 1088)\n",
      "D_train shape after symmetrization: (1088, 1088)\n",
      "Expected dimensionality: 1088 x 1088\n",
      "Explanation: Gram matrix is n×n where n is number of training samples\n",
      "Each element (i,j) represents kernel value k(x_i, x_j)\n",
      "\n",
      "Mathematical expression of the kernel:\n",
      "k(x_i, x_j) = 1 if x_j is among k nearest neighbors of x_i OR x_i is among k nearest neighbors of x_j\n",
      "k(x_i, x_j) = 0.5 if only one of the above conditions is true\n",
      "k(x_i, x_j) = 0 otherwise\n"
     ]
    }
   ],
   "source": [
    "# a. Create custom kernel using k-nearest neighbors (k=2)\n",
    "from sklearn.neighbors import NearestNeighbors\n",
    "\n",
    "# Create NN object and fit to training data\n",
    "nbrs = NearestNeighbors(n_neighbors=2, algorithm=\"kd_tree\").fit(X_train)\n",
    "\n",
    "# Compute connectivity matrix\n",
    "D_train = nbrs.kneighbors_graph(X_train, mode=\"connectivity\")\n",
    "D_train = D_train.toarray()  # Convert sparse to dense\n",
    "\n",
    "print(f\"D_train shape before symmetrization: {D_train.shape}\")\n",
    "\n",
    "# Make matrix symmetric (valid Gram matrix)\n",
    "D_train = (D_train + D_train.T) / 2\n",
    "\n",
    "print(f\"D_train shape after symmetrization: {D_train.shape}\")\n",
    "print(f\"Expected dimensionality: {X_train.shape[0]} x {X_train.shape[0]}\")\n",
    "print(\"Explanation: Gram matrix is n×n where n is number of training samples\")\n",
    "print(\"Each element (i,j) represents kernel value k(x_i, x_j)\")\n",
    "\n",
    "print(\"\\nMathematical expression of the kernel:\")\n",
    "print(\n",
    "    \"k(x_i, x_j) = 1 if x_j is among k nearest neighbors of x_i OR x_i is among k nearest neighbors of x_j\"\n",
    ")\n",
    "print(\"k(x_i, x_j) = 0.5 if only one of the above conditions is true\")\n",
    "print(\"k(x_i, x_j) = 0 otherwise\")"
   ]
  },
  {
   "cell_type": "code",
   "execution_count": null,
   "id": "26e66e9d",
   "metadata": {},
   "outputs": [
    {
     "name": "stdout",
     "output_type": "stream",
     "text": [
      "D_test shape: (467, 1088)\n",
      "Expected test shape: 467 x 1088\n",
      "\n",
      "Test accuracy with k=2: 0.9807\n",
      "\n",
      "Theoretical inconsistency:\n",
      "- Training: D_train is symmetric (n_train × n_train)\n",
      "- Testing: D_test is asymmetric (n_test × n_train)\n",
      "- Training assumes k(x_i, x_j) = k(x_j, x_i), but test matrix violates this\n",
      "- Test points' neighborhoods are computed w.r.t. training set only\n"
     ]
    }
   ],
   "source": [
    "# b. Train SVM with precomputed kernel\n",
    "model = SVC(C=1, kernel=\"precomputed\")\n",
    "model.fit(D_train, y_train)\n",
    "\n",
    "# Create test Gram matrix\n",
    "D_test = nbrs.kneighbors_graph(X_test, mode=\"connectivity\")\n",
    "D_test = D_test.toarray()\n",
    "\n",
    "print(f\"D_test shape: {D_test.shape}\")\n",
    "print(f\"Expected test shape: {X_test.shape[0]} x {X_train.shape[0]}\")\n",
    "\n",
    "# Make predictions\n",
    "preds = model.predict(D_test)\n",
    "test_accuracy_k2 = accuracy_score(y_test, preds)\n",
    "\n",
    "print(f\"\\nTest accuracy with k=2: {test_accuracy_k2:.4f}\")\n",
    "\n",
    "print(\"\\nTheoretical inconsistency:\")\n",
    "print(\"- Training: D_train is symmetric (n_train × n_train)\")\n",
    "print(\"- Testing: D_test is asymmetric (n_test × n_train)\")\n",
    "print(\"- Training assumes k(x_i, x_j) = k(x_j, x_i), but test matrix violates this\")\n",
    "print(\"- Test points' neighborhoods are computed w.r.t. training set only\")"
   ]
  },
  {
   "cell_type": "code",
   "execution_count": null,
   "id": "9eb86f43",
   "metadata": {},
   "outputs": [
    {
     "name": "stdout",
     "output_type": "stream",
     "text": [
      "\n",
      "==================================================\n",
      "Repeating with k=4\n",
      "==================================================\n",
      "Test accuracy with k=4: 0.9807\n",
      "\n",
      "Comparison:\n",
      "k=2: 0.9807\n",
      "k=4: 0.9807\n",
      "Higher k creates denser connectivity, potentially capturing more global structure\n"
     ]
    }
   ],
   "source": [
    "# c. Repeat with k=4\n",
    "print(f\"\\n\" + \"=\" * 50)\n",
    "print(\"Repeating with k=4\")\n",
    "print(\"=\" * 50)\n",
    "\n",
    "nbrs_k4 = NearestNeighbors(n_neighbors=4, algorithm=\"kd_tree\").fit(X_train)\n",
    "\n",
    "# Training Gram matrix for k=4\n",
    "D_train_k4 = nbrs_k4.kneighbors_graph(X_train, mode=\"connectivity\")\n",
    "D_train_k4 = D_train_k4.toarray()\n",
    "D_train_k4 = (D_train_k4 + D_train_k4.T) / 2\n",
    "\n",
    "# Train model with k=4\n",
    "model_k4 = SVC(C=1, kernel=\"precomputed\")\n",
    "model_k4.fit(D_train_k4, y_train)\n",
    "\n",
    "# Test Gram matrix for k=4\n",
    "D_test_k4 = nbrs_k4.kneighbors_graph(X_test, mode=\"connectivity\")\n",
    "D_test_k4 = D_test_k4.toarray()\n",
    "\n",
    "# Predictions with k=4\n",
    "preds_k4 = model_k4.predict(D_test_k4)\n",
    "test_accuracy_k4 = accuracy_score(y_test, preds_k4)\n",
    "\n",
    "print(f\"Test accuracy with k=4: {test_accuracy_k4:.4f}\")\n",
    "\n",
    "print(f\"\\nComparison:\")\n",
    "print(f\"k=2: {test_accuracy_k2:.4f}\")\n",
    "print(f\"k=4: {test_accuracy_k4:.4f}\")\n",
    "print(\n",
    "    \"Higher k creates denser connectivity, potentially capturing more global structure\"\n",
    ")"
   ]
  },
  {
   "cell_type": "markdown",
   "id": "f7517add",
   "metadata": {},
   "source": [
    "# Question 3"
   ]
  },
  {
   "cell_type": "code",
   "execution_count": null,
   "id": "15ba9765",
   "metadata": {},
   "outputs": [
    {
     "name": "stdout",
     "output_type": "stream",
     "text": [
      "============================================================\n",
      "K-Means Clustering with Silhouette Analysis on Iris Data\n",
      "============================================================\n",
      "Iris dataset shape: (150, 5)\n",
      "First few rows:\n",
      "   feature_1  feature_2  feature_3  feature_4            y\n",
      "0        5.1        3.5        1.4        0.2  Iris-setosa\n",
      "1        4.9        3.0        1.4        0.2  Iris-setosa\n",
      "2        4.7        3.2        1.3        0.2  Iris-setosa\n",
      "3        4.6        3.1        1.5        0.2  Iris-setosa\n",
      "4        5.0        3.6        1.4        0.2  Iris-setosa\n",
      "Features shape: (150, 4)\n",
      "\n",
      "Running K-means clustering for k = 2 to 20...\n",
      "k\tSilhouette Score\n",
      "-------------------------\n",
      "2\t0.6808\n",
      "3\t0.5526\n",
      "4\t0.4978\n",
      "5\t0.3744\n",
      "6\t0.3146\n",
      "7\t0.3165\n",
      "8\t0.3532\n",
      "9\t0.3454\n",
      "10\t0.3218\n",
      "11\t0.3261\n",
      "12\t0.3310\n",
      "13\t0.2830\n",
      "14\t0.2806\n",
      "15\t0.2875\n",
      "16\t0.2672\n",
      "17\t0.2613\n",
      "18\t0.2705\n",
      "19\t0.2654\n",
      "20\t0.2514\n",
      "\n",
      "Best clustering:\n",
      "k = 2 with Silhouette score = 0.6808\n"
     ]
    },
    {
     "data": {
      "image/png": "[encoded data removed]",
      "text/plain": [
       "<Figure size 1000x600 with 1 Axes>"
      ]
     },
     "metadata": {},
     "output_type": "display_data"
    },
    {
     "name": "stdout",
     "output_type": "stream",
     "text": [
      "\n",
      "Corrected Analysis:\n",
      "- The plot shows silhouette scores for k ranging from 2 to 20\n",
      "- Higher silhouette score indicates better clustering quality\n",
      "- Best k = 2 achieved the highest silhouette score of 0.6808\n",
      "- However, this contradicts biological knowledge: Iris has 3 natural species\n",
      "- k=2 creates artificial groupings that don't match true species boundaries\n",
      "- k=3 (score=0.5526) is more meaningful despite lower silhouette score\n",
      "- This shows silhouette score optimization doesn't always align with domain knowledge\n",
      "- The high k=2 score likely comes from separating setosa (very distinct) from versicolor+virginica\n"
     ]
    }
   ],
   "source": [
    "# Load Iris dataset and extract features\n",
    "print(\"=\" * 60)\n",
    "print(\"K-Means Clustering with Silhouette Analysis on Iris Data\")\n",
    "print(\"=\" * 60)\n",
    "\n",
    "# Load Iris data\n",
    "dat_iris = pd.read_csv(\"../../data/iris_data.csv\")  # Adjust path as needed\n",
    "print(\"Iris dataset shape:\", dat_iris.shape)\n",
    "print(\"First few rows:\")\n",
    "print(dat_iris.head())\n",
    "\n",
    "# Extract only features (exclude target column)\n",
    "X_iris = dat_iris.iloc[:, :-1].to_numpy()\n",
    "print(f\"Features shape: {X_iris.shape}\")\n",
    "\n",
    "# Import required modules\n",
    "from sklearn.cluster import KMeans\n",
    "from sklearn.metrics import silhouette_score\n",
    "\n",
    "# Set random state\n",
    "randstate = 123\n",
    "\n",
    "# Initialize lists to store results\n",
    "k_values = range(2, 21)  # k from 2 to 20\n",
    "silhouette_scores = []\n",
    "\n",
    "print(\"\\nRunning K-means clustering for k = 2 to 20...\")\n",
    "print(\"k\\tSilhouette Score\")\n",
    "print(\"-\" * 25)\n",
    "\n",
    "# Loop through different k values\n",
    "for k in k_values:\n",
    "    # Create K-means object\n",
    "    kmeans = KMeans(n_clusters=k, random_state=randstate)\n",
    "\n",
    "    # Fit and predict cluster labels\n",
    "    clusters = kmeans.fit_predict(X_iris)\n",
    "\n",
    "    # Compute silhouette score\n",
    "    score = silhouette_score(X_iris, clusters)\n",
    "    silhouette_scores.append(score)\n",
    "\n",
    "    print(f\"{k}\\t{score:.4f}\")\n",
    "\n",
    "# Find best k\n",
    "best_k_idx = np.argmax(silhouette_scores)\n",
    "best_k = k_values[best_k_idx]\n",
    "best_score = silhouette_scores[best_k_idx]\n",
    "\n",
    "print(f\"\\nBest clustering:\")\n",
    "print(f\"k = {best_k} with Silhouette score = {best_score:.4f}\")\n",
    "\n",
    "# Plot silhouette scores vs number of clusters\n",
    "plt.figure(figsize=(10, 6))\n",
    "plt.plot(k_values, silhouette_scores, \"bo-\", linewidth=2, markersize=8)\n",
    "plt.xlabel(\"Number of Clusters (k)\")\n",
    "plt.ylabel(\"Silhouette Score\")\n",
    "plt.title(\"Silhouette Score vs Number of Clusters (K-means on Iris Data)\")\n",
    "plt.grid(True, alpha=0.3)\n",
    "plt.xticks(k_values)\n",
    "\n",
    "# Highlight the best k\n",
    "plt.axvline(\n",
    "    x=best_k, color=\"red\", linestyle=\"--\", alpha=0.7, label=f\"Best k = {best_k}\"\n",
    ")\n",
    "plt.scatter(best_k, best_score, color=\"red\", s=100, zorder=5)\n",
    "\n",
    "plt.legend()\n",
    "plt.tight_layout()\n",
    "plt.show()\n",
    "\n",
    "print(f\"\\nCorrected Analysis:\")\n",
    "print(f\"- The plot shows silhouette scores for k ranging from 2 to 20\")\n",
    "print(f\"- Higher silhouette score indicates better clustering quality\")\n",
    "print(f\"- Best k = {best_k} achieved the highest silhouette score of {best_score:.4f}\")\n",
    "print(f\"- However, this contradicts biological knowledge: Iris has 3 natural species\")\n",
    "print(f\"- k=2 creates artificial groupings that don't match true species boundaries\")\n",
    "print(f\"- k=3 (score=0.5526) is more meaningful despite lower silhouette score\")\n",
    "print(\n",
    "    f\"- This shows silhouette score optimization doesn't always align with domain knowledge\"\n",
    ")\n",
    "print(\n",
    "    f\"- The high k=2 score likely comes from separating setosa (very distinct) from versicolor+virginica\"\n",
    ")"
   ]
  },
  {
   "cell_type": "code",
   "execution_count": null,
   "id": "25ea1bef",
   "metadata": {},
   "outputs": [],
   "source": []
  }
 ],
 "metadata": {
  "kernelspec": {
   "display_name": ".venv",
   "language": "python",
   "name": "python3"
  },
  "language_info": {
   "codemirror_mode": {
    "name": "ipython",
    "version": 3
   },
   "file_extension": ".py",
   "mimetype": "text/x-python",
   "name": "python",
   "nbconvert_exporter": "python",
   "pygments_lexer": "ipython3",
   "version": "3.13.8"
  }
 },
 "nbformat": 4,
 "nbformat_minor": 5
}
